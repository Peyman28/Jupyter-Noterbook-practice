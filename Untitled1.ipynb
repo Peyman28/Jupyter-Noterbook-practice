{
  "metadata": {
    "language_info": {
      "codemirror_mode": {
        "name": "python",
        "version": 3
      },
      "file_extension": ".py",
      "mimetype": "text/x-python",
      "name": "python",
      "nbconvert_exporter": "python",
      "pygments_lexer": "ipython3",
      "version": "3.8"
    },
    "kernelspec": {
      "name": "python",
      "display_name": "Python (Pyodide)",
      "language": "python"
    }
  },
  "nbformat_minor": 4,
  "nbformat": 4,
  "cells": [
    {
      "cell_type": "markdown",
      "source": "# My Jupyter Notebook on IBM Watson Studio\n  ",
      "metadata": {}
    },
    {
      "cell_type": "markdown",
      "source": "**Peyman Hasani**  \nIT expert in Omid financial management company  ",
      "metadata": {}
    },
    {
      "cell_type": "markdown",
      "source": "*I'm interested in data science as It is so related to my job plus it can help me with analysing financial data by using its tools. I also have knowledge about field and wave electomagnetic engineering, so I'm in to finding out how data science can be applied in there. Although I need to spend a lot of time for learning it, I think it's worth efforting to learn such a fascinating science, so I offer that to all of my close friends.*",
      "metadata": {}
    },
    {
      "cell_type": "markdown",
      "source": "### This code is supposed to do an addition operation  ",
      "metadata": {}
    },
    {
      "cell_type": "code",
      "source": "a,b,c=3,4,5\nsum=a+b+c\nprint(a,'+', b, '+', c, '=',sum)",
      "metadata": {
        "trusted": true
      },
      "execution_count": 10,
      "outputs": [
        {
          "name": "stdout",
          "text": "3 + 4 + 5 = 12\n",
          "output_type": "stream"
        }
      ]
    },
    {
      "cell_type": "markdown",
      "source": "---\n1. Some data science tools\n* python\n* R\n* Scala\n2. Some data science tasks\n* Data management \n* Date visualization \n* Data refinary  \n\n  |Data science | Tools  |    Tasks|   \n  |:---:|:---:  |:---: |\n  |1|Python|Data management|\n  |2|R|Data visualization|\n  |3|Scala|Data refinary|\n  \n   `code` and `syntax` highlighting\n   ```python\n   s = \"Python syntax highlighting\"\n   print s\n   ```\n   >My email adress: peymanhasani28@yahoo.com\n   \n    [**For more info click here**](https://www.ibm.com)\n    \n \n\n\n![alt text](https://encrypted-tbn0.gstatic.com/images?q=tbn:ANd9GcQOoYsBHekWpZKLMGUvjeb18RRPafqkAHA2aA&usqp=CAU) ",
      "metadata": {}
    },
    {
      "cell_type": "markdown",
      "source": "",
      "metadata": {}
    },
    {
      "cell_type": "code",
      "source": "",
      "metadata": {},
      "execution_count": null,
      "outputs": []
    }
  ]
}